{
 "cells": [
  {
   "cell_type": "code",
   "execution_count": 4,
   "metadata": {},
   "outputs": [
    {
     "data": {
      "text/html": [
       "<div>\n",
       "<table border=\"1\" class=\"dataframe\">\n",
       "  <thead>\n",
       "    <tr style=\"text-align: right;\">\n",
       "      <th></th>\n",
       "      <th>age</th>\n",
       "      <th>workclass</th>\n",
       "      <th>education_level</th>\n",
       "      <th>education-num</th>\n",
       "      <th>marital-status</th>\n",
       "      <th>occupation</th>\n",
       "      <th>relationship</th>\n",
       "      <th>race</th>\n",
       "      <th>sex</th>\n",
       "      <th>capital-gain</th>\n",
       "      <th>capital-loss</th>\n",
       "      <th>hours-per-week</th>\n",
       "      <th>native-country</th>\n",
       "      <th>income</th>\n",
       "    </tr>\n",
       "  </thead>\n",
       "  <tbody>\n",
       "    <tr>\n",
       "      <th>0</th>\n",
       "      <td>39</td>\n",
       "      <td>State-gov</td>\n",
       "      <td>Bachelors</td>\n",
       "      <td>13.0</td>\n",
       "      <td>Never-married</td>\n",
       "      <td>Adm-clerical</td>\n",
       "      <td>Not-in-family</td>\n",
       "      <td>White</td>\n",
       "      <td>Male</td>\n",
       "      <td>2174.0</td>\n",
       "      <td>0.0</td>\n",
       "      <td>40.0</td>\n",
       "      <td>United-States</td>\n",
       "      <td>&lt;=50K</td>\n",
       "    </tr>\n",
       "    <tr>\n",
       "      <th>1</th>\n",
       "      <td>50</td>\n",
       "      <td>Self-emp-not-inc</td>\n",
       "      <td>Bachelors</td>\n",
       "      <td>13.0</td>\n",
       "      <td>Married-civ-spouse</td>\n",
       "      <td>Exec-managerial</td>\n",
       "      <td>Husband</td>\n",
       "      <td>White</td>\n",
       "      <td>Male</td>\n",
       "      <td>0.0</td>\n",
       "      <td>0.0</td>\n",
       "      <td>13.0</td>\n",
       "      <td>United-States</td>\n",
       "      <td>&lt;=50K</td>\n",
       "    </tr>\n",
       "    <tr>\n",
       "      <th>2</th>\n",
       "      <td>38</td>\n",
       "      <td>Private</td>\n",
       "      <td>HS-grad</td>\n",
       "      <td>9.0</td>\n",
       "      <td>Divorced</td>\n",
       "      <td>Handlers-cleaners</td>\n",
       "      <td>Not-in-family</td>\n",
       "      <td>White</td>\n",
       "      <td>Male</td>\n",
       "      <td>0.0</td>\n",
       "      <td>0.0</td>\n",
       "      <td>40.0</td>\n",
       "      <td>United-States</td>\n",
       "      <td>&lt;=50K</td>\n",
       "    </tr>\n",
       "  </tbody>\n",
       "</table>\n",
       "</div>"
      ],
      "text/plain": [
       "   age          workclass education_level  education-num       marital-status  \\\n",
       "0   39          State-gov       Bachelors           13.0        Never-married   \n",
       "1   50   Self-emp-not-inc       Bachelors           13.0   Married-civ-spouse   \n",
       "2   38            Private         HS-grad            9.0             Divorced   \n",
       "\n",
       "           occupation    relationship    race    sex  capital-gain  \\\n",
       "0        Adm-clerical   Not-in-family   White   Male        2174.0   \n",
       "1     Exec-managerial         Husband   White   Male           0.0   \n",
       "2   Handlers-cleaners   Not-in-family   White   Male           0.0   \n",
       "\n",
       "   capital-loss  hours-per-week  native-country income  \n",
       "0           0.0            40.0   United-States  <=50K  \n",
       "1           0.0            13.0   United-States  <=50K  \n",
       "2           0.0            40.0   United-States  <=50K  "
      ]
     },
     "metadata": {},
     "output_type": "display_data"
    }
   ],
   "source": [
    "# Import libraries necessary for this project\n",
    "import numpy as np\n",
    "import pandas as pd\n",
    "from time import time\n",
    "from IPython.display import display # Allows the use of display() for DataFrames\n",
    "\n",
    "# Import supplementary visualization code visuals.py\n",
    "import visuals as vs\n",
    "\n",
    "# Pretty display for notebooks\n",
    "%matplotlib inline\n",
    "\n",
    "# Load the Census dataset\n",
    "data = pd.read_csv(\"census.csv\")\n",
    "\n",
    "# Success - Display the first record\n",
    "display(data.head(n=3))"
   ]
  },
  {
   "cell_type": "code",
   "execution_count": 6,
   "metadata": {},
   "outputs": [
    {
     "name": "stdout",
     "output_type": "stream",
     "text": [
      "Total number of records: 45222\n",
      "Individuals making more than $50,000: 11208\n",
      "Individuals making at most $50,000: 34014\n",
      "Percentage of individuals making more than $50,000: 24.78%\n",
      "Percentage of individuals making atmost $50,000: 75.22%\n"
     ]
    }
   ],
   "source": [
    "# TODO: Total number of records\n",
    "n_records = len(data.index)\n",
    "\n",
    "# TODO: Number of records where individual's income is more than $50,000\n",
    "n_greater_50k = len(filter(lambda x:x==\">50K\", data['income']))\n",
    "\n",
    "# TODO: Number of records where individual's income is at most $50,000\n",
    "n_at_most_50k = len(filter(lambda x:x==\"<=50K\", data['income']))\n",
    "\n",
    "# TODO: Percentage of individuals whose income is more than $50,000\n",
    "greater_percent = (n_greater_50k/float(n_records))*100\n",
    "lesser_percent = (n_at_most_50k/float(n_records))*100\n",
    "\n",
    "# Print the results\n",
    "print \"Total number of records: {}\".format(n_records)\n",
    "print \"Individuals making more than $50,000: {}\".format(n_greater_50k)\n",
    "print \"Individuals making at most $50,000: {}\".format(n_at_most_50k)\n",
    "print \"Percentage of individuals making more than $50,000: {:.2f}%\".format(greater_percent)\n",
    "print \"Percentage of individuals making atmost $50,000: {:.2f}%\".format(lesser_percent)"
   ]
  },
  {
   "cell_type": "code",
   "execution_count": 7,
   "metadata": {
    "scrolled": false
   },
   "outputs": [
    {
     "data": {
      "image/png": "[encoded data removed]",
      "text/plain": [
       "<matplotlib.figure.Figure at 0x7f4b63045d50>"
      ]
     },
     "metadata": {},
     "output_type": "display_data"
    }
   ],
   "source": [
    "# Split the data into features and target label\n",
    "income_raw = data['income']\n",
    "features_raw = data.drop('income', axis = 1)\n",
    "\n",
    "# Visualize skewed continuous features of original data\n",
    "vs.distribution(data)"
   ]
  },
  {
   "cell_type": "code",
   "execution_count": 8,
   "metadata": {},
   "outputs": [
    {
     "data": {
      "image/png": "[encoded data removed]",
      "text/plain": [
       "<matplotlib.figure.Figure at 0x7f4b56fd05d0>"
      ]
     },
     "metadata": {},
     "output_type": "display_data"
    }
   ],
   "source": [
    "# Log-transform the skewed features\n",
    "skewed = ['capital-gain', 'capital-loss']\n",
    "features_raw[skewed] = data[skewed].apply(lambda x: np.log(x + 1))\n",
    "\n",
    "# Visualize the new log distributions\n",
    "vs.distribution(features_raw, transformed = True)"
   ]
  },
  {
   "cell_type": "code",
   "execution_count": 10,
   "metadata": {},
   "outputs": [
    {
     "data": {
      "text/html": [
       "<div>\n",
       "<table border=\"1\" class=\"dataframe\">\n",
       "  <thead>\n",
       "    <tr style=\"text-align: right;\">\n",
       "      <th></th>\n",
       "      <th>age</th>\n",
       "      <th>workclass</th>\n",
       "      <th>education_level</th>\n",
       "      <th>education-num</th>\n",
       "      <th>marital-status</th>\n",
       "      <th>occupation</th>\n",
       "      <th>relationship</th>\n",
       "      <th>race</th>\n",
       "      <th>sex</th>\n",
       "      <th>capital-gain</th>\n",
       "      <th>capital-loss</th>\n",
       "      <th>hours-per-week</th>\n",
       "      <th>native-country</th>\n",
       "    </tr>\n",
       "  </thead>\n",
       "  <tbody>\n",
       "    <tr>\n",
       "      <th>0</th>\n",
       "      <td>0.301370</td>\n",
       "      <td>State-gov</td>\n",
       "      <td>Bachelors</td>\n",
       "      <td>0.800000</td>\n",
       "      <td>Never-married</td>\n",
       "      <td>Adm-clerical</td>\n",
       "      <td>Not-in-family</td>\n",
       "      <td>White</td>\n",
       "      <td>Male</td>\n",
       "      <td>0.02174</td>\n",
       "      <td>0.0</td>\n",
       "      <td>0.397959</td>\n",
       "      <td>United-States</td>\n",
       "    </tr>\n",
       "    <tr>\n",
       "      <th>1</th>\n",
       "      <td>0.452055</td>\n",
       "      <td>Self-emp-not-inc</td>\n",
       "      <td>Bachelors</td>\n",
       "      <td>0.800000</td>\n",
       "      <td>Married-civ-spouse</td>\n",
       "      <td>Exec-managerial</td>\n",
       "      <td>Husband</td>\n",
       "      <td>White</td>\n",
       "      <td>Male</td>\n",
       "      <td>0.00000</td>\n",
       "      <td>0.0</td>\n",
       "      <td>0.122449</td>\n",
       "      <td>United-States</td>\n",
       "    </tr>\n",
       "    <tr>\n",
       "      <th>2</th>\n",
       "      <td>0.287671</td>\n",
       "      <td>Private</td>\n",
       "      <td>HS-grad</td>\n",
       "      <td>0.533333</td>\n",
       "      <td>Divorced</td>\n",
       "      <td>Handlers-cleaners</td>\n",
       "      <td>Not-in-family</td>\n",
       "      <td>White</td>\n",
       "      <td>Male</td>\n",
       "      <td>0.00000</td>\n",
       "      <td>0.0</td>\n",
       "      <td>0.397959</td>\n",
       "      <td>United-States</td>\n",
       "    </tr>\n",
       "  </tbody>\n",
       "</table>\n",
       "</div>"
      ],
      "text/plain": [
       "        age          workclass education_level  education-num  \\\n",
       "0  0.301370          State-gov       Bachelors       0.800000   \n",
       "1  0.452055   Self-emp-not-inc       Bachelors       0.800000   \n",
       "2  0.287671            Private         HS-grad       0.533333   \n",
       "\n",
       "        marital-status          occupation    relationship    race    sex  \\\n",
       "0        Never-married        Adm-clerical   Not-in-family   White   Male   \n",
       "1   Married-civ-spouse     Exec-managerial         Husband   White   Male   \n",
       "2             Divorced   Handlers-cleaners   Not-in-family   White   Male   \n",
       "\n",
       "   capital-gain  capital-loss  hours-per-week  native-country  \n",
       "0       0.02174           0.0        0.397959   United-States  \n",
       "1       0.00000           0.0        0.122449   United-States  \n",
       "2       0.00000           0.0        0.397959   United-States  "
      ]
     },
     "metadata": {},
     "output_type": "display_data"
    }
   ],
   "source": [
    "# Import sklearn.preprocessing.StandardScaler\n",
    "from sklearn.preprocessing import MinMaxScaler\n",
    "\n",
    "# Initialize a scaler, then apply it to the features\n",
    "scaler = MinMaxScaler()\n",
    "numerical = ['age', 'education-num', 'capital-gain', 'capital-loss', 'hours-per-week']\n",
    "features_raw[numerical] = scaler.fit_transform(data[numerical])\n",
    "\n",
    "# Show an example of a record with scaling applied\n",
    "display(features_raw.head(n = 3))"
   ]
  },
  {
   "cell_type": "code",
   "execution_count": 12,
   "metadata": {},
   "outputs": [
    {
     "name": "stdout",
     "output_type": "stream",
     "text": [
      "103 total features after one-hot encoding.\n",
      "['age', 'education-num', 'capital-gain', 'capital-loss', 'hours-per-week', 'workclass_ Federal-gov', 'workclass_ Local-gov', 'workclass_ Private', 'workclass_ Self-emp-inc', 'workclass_ Self-emp-not-inc', 'workclass_ State-gov', 'workclass_ Without-pay', 'education_level_ 10th', 'education_level_ 11th', 'education_level_ 12th', 'education_level_ 1st-4th', 'education_level_ 5th-6th', 'education_level_ 7th-8th', 'education_level_ 9th', 'education_level_ Assoc-acdm', 'education_level_ Assoc-voc', 'education_level_ Bachelors', 'education_level_ Doctorate', 'education_level_ HS-grad', 'education_level_ Masters', 'education_level_ Preschool', 'education_level_ Prof-school', 'education_level_ Some-college', 'marital-status_ Divorced', 'marital-status_ Married-AF-spouse', 'marital-status_ Married-civ-spouse', 'marital-status_ Married-spouse-absent', 'marital-status_ Never-married', 'marital-status_ Separated', 'marital-status_ Widowed', 'occupation_ Adm-clerical', 'occupation_ Armed-Forces', 'occupation_ Craft-repair', 'occupation_ Exec-managerial', 'occupation_ Farming-fishing', 'occupation_ Handlers-cleaners', 'occupation_ Machine-op-inspct', 'occupation_ Other-service', 'occupation_ Priv-house-serv', 'occupation_ Prof-specialty', 'occupation_ Protective-serv', 'occupation_ Sales', 'occupation_ Tech-support', 'occupation_ Transport-moving', 'relationship_ Husband', 'relationship_ Not-in-family', 'relationship_ Other-relative', 'relationship_ Own-child', 'relationship_ Unmarried', 'relationship_ Wife', 'race_ Amer-Indian-Eskimo', 'race_ Asian-Pac-Islander', 'race_ Black', 'race_ Other', 'race_ White', 'sex_ Female', 'sex_ Male', 'native-country_ Cambodia', 'native-country_ Canada', 'native-country_ China', 'native-country_ Columbia', 'native-country_ Cuba', 'native-country_ Dominican-Republic', 'native-country_ Ecuador', 'native-country_ El-Salvador', 'native-country_ England', 'native-country_ France', 'native-country_ Germany', 'native-country_ Greece', 'native-country_ Guatemala', 'native-country_ Haiti', 'native-country_ Holand-Netherlands', 'native-country_ Honduras', 'native-country_ Hong', 'native-country_ Hungary', 'native-country_ India', 'native-country_ Iran', 'native-country_ Ireland', 'native-country_ Italy', 'native-country_ Jamaica', 'native-country_ Japan', 'native-country_ Laos', 'native-country_ Mexico', 'native-country_ Nicaragua', 'native-country_ Outlying-US(Guam-USVI-etc)', 'native-country_ Peru', 'native-country_ Philippines', 'native-country_ Poland', 'native-country_ Portugal', 'native-country_ Puerto-Rico', 'native-country_ Scotland', 'native-country_ South', 'native-country_ Taiwan', 'native-country_ Thailand', 'native-country_ Trinadad&Tobago', 'native-country_ United-States', 'native-country_ Vietnam', 'native-country_ Yugoslavia']\n",
      "1    <=50K\n",
      "2    <=50K\n",
      "3    <=50K\n",
      "4    <=50K\n",
      "5    <=50K\n",
      "6    <=50K\n",
      "7     >50K\n",
      "8     >50K\n",
      "Name: income, dtype: object\n",
      "1    0\n",
      "2    0\n",
      "3    0\n",
      "4    0\n",
      "5    0\n",
      "6    0\n",
      "7    1\n",
      "8    1\n",
      "Name: income, dtype: int64\n"
     ]
    }
   ],
   "source": [
    "# TODO: One-hot encode the 'features_raw' data using pandas.get_dummies()\n",
    "features = pd.get_dummies(features_raw)\n",
    "\n",
    "# TODO: Encode the 'income_raw' data to numerical values1\n",
    "income = income_raw.map({'>50K': 1, '<=50K': 0})\n",
    "\n",
    "# Print the number of features after one-hot encoding\n",
    "encoded = list(features.columns)\n",
    "print \"{} total features after one-hot encoding.\".format(len(encoded))\n",
    "\n",
    "# Uncomment the following line to see the encoded feature names\n",
    "print encoded\n",
    "print income_raw[1:9]\n",
    "print income[1:9]"
   ]
  },
  {
   "cell_type": "code",
   "execution_count": 14,
   "metadata": {},
   "outputs": [
    {
     "name": "stdout",
     "output_type": "stream",
     "text": [
      "Training set has 36177 samples.\n",
      "Testing set has 9045 samples.\n"
     ]
    }
   ],
   "source": [
    "# Import train_test_split\n",
    "from sklearn.cross_validation import train_test_split\n",
    "\n",
    "# Split the 'features' and 'income' data into training and testing sets\n",
    "X_train, X_test, y_train, y_test = train_test_split(features, income, test_size = 0.2, random_state = 0)\n",
    "\n",
    "# Show the results of the split\n",
    "print \"Training set has {} samples.\".format(X_train.shape[0])\n",
    "print \"Testing set has {} samples.\".format(X_test.shape[0])"
   ]
  },
  {
   "cell_type": "code",
   "execution_count": 9,
   "metadata": {},
   "outputs": [
    {
     "name": "stdout",
     "output_type": "stream",
     "text": [
      "Naive Predictor: [Accuracy score: 0.2478, F-score: 0.2917]\n"
     ]
    }
   ],
   "source": [
    "# TODO: Calculate accuracy\n",
    "accuracy = n_greater_50k/float(n_records)\n",
    "\n",
    "# TODO: Calculate F-score using the formula above for beta = 0.5\n",
    "beta = 0.5\n",
    "beta_2 = beta*beta\n",
    "recall = 1 #(True Positives)/(True Positives + False Negatives) And it is said that data is pure and no missing data. False negavtives considered to be zero.\n",
    "fscore = (1+beta_2)*(accuracy*recall)/((accuracy*beta_2)+recall)\n",
    "\n",
    "# Print the results \n",
    "print \"Naive Predictor: [Accuracy score: {:.4f}, F-score: {:.4f}]\".format(accuracy, fscore)"
   ]
  },
  {
   "cell_type": "markdown",
   "metadata": {},
   "source": [
    "Here F-score and Accuracy score are nearly equal. As we have considered Beta = 0.5, which indicates that emphais is laid towards the precision i.e. accuracy. "
   ]
  },
  {
   "cell_type": "markdown",
   "metadata": {},
   "source": [
    "Q) List three of the supervised learning models above that are appropriate for this problem that you will test on the census data. For each model chosen\n",
    "\n",
    "- Though all those supervised learning models can be applied on this problem, I prefer to use Guassian Naive Bayes, Decision Trees and Support Vector Machines (SVM).\n",
    "\n",
    "1) Gaussian Naive Bayes: \n",
    "- Describe one real-world application in industry where the model can be applied. (You may need to do research for this — give references!)\n",
    "\n",
    "    Ans) Guasssian NB, can be used in Document Classification. This algorithm helps us to determine whether a particular document belongs to one or more classified categories. Some of the features used in this application is presence and absence of some keywords. Or Presence of scientific terminology or literature or other language patterns.\n",
    "    Ref 1) http://www.cs.ucf.edu/~gqi/CAP5610/CAP5610Lecture04.pdf\n",
    "    Ref 2) https://www.quora.com/In-what-real-world-applications-is-Naive-Bayes-classifier-used\n",
    "    Ref 3) http://scikit-learn.org/stable/modules/naive_bayes.html#gaussian-naive-bayes\n",
    "    \n",
    "    \n",
    "- What are the strengths of the model; when does it perform well?\n",
    "\n",
    "    Ans) It is simple when the features used for classifying are independent to each other. This in turn helps in efficiently training the data well on the model. Though there is dependency between some features, this model performs well. when maximum likelihoodness of labels is taken into consideration. The decoupling of the class conditional feature distributions helps in alleviating problems stemming from the curse of dimensionality.\n",
    "    \n",
    "    \n",
    "- What are the weaknesses of the model; when does it perform poorly?\n",
    "\n",
    "    Ans) It is prone to high bias when limited amount of data is available to model. Possibility of bad generalizations. When unknown feature-label combinations comes into picture, this could result in incorrect outputs.Although it is a decent classifier, it is known to be a bad estimator.\n",
    "    \n",
    "    \n",
    "- What makes this model a good candidate for the problem, given what you know about the data?\n",
    "\n",
    "    Ans) This model gives us the desired results when we have adequate data and many (adequate) features. This could be a decently perfect model to train data when considered the graphical illustrations shown below the data modelling for 100% of training, Gaussian NB has taken minimum time.  \n",
    "    \n",
    "2) Decision Trees:\n",
    "\n",
    "- Describe one real-world application in industry where the model can be applied. (You may need to do research for this — give references!)\n",
    "\n",
    "    Ans) Decision Trees can be used in astronomical applications. Decision Trees are used used to filter the noise from Hubble Space Telescope images. Many decision trees are used but notable C4.5 and CART were used. As these models prefer axis-parallel hyperplanes. \n",
    "    Ref 1) http://www.cbcb.umd.edu/~salzberg/docs/murthy_thesis/survey/node32.html\n",
    "    Ref 2) http://adsabs.harvard.edu/full/1995PASP..107..279S\n",
    "    Ref 3) http://scikit-learn.org/stable/modules/tree.html\n",
    "    \n",
    "       \n",
    "- What are the strengths of the model; when does it perform well?\n",
    "\n",
    "    Ans) Decision Trees are easy to visualise and interpret. Faster in execution while working on training data. Non linear relationship between paramters do not affect the tree performance. Decision Trees implicitly perform variable screening or feature selection. Model performs well when it has smaller decison trees rather than bigger decsion trees. Possible to validate a model using statistical tests which depicts the reliability of the model. Performs well though assumptions are somewhat violated by the true model from which the data were generated. Can handle multi-output problems.\n",
    "    \n",
    "    \n",
    "- What are the weaknesses of the model; when does it perform poorly? \n",
    "\n",
    "    Ans) The ID3 Algorthim which was explained in the course depicts that decision trees can be prone to overfitting. Decision trees grow very rapidly which in turn uses high memory. Decision trees can be unstable because small variations in the data may result in a completely different tree. Decision tree learners create biased trees if some classes dominate.\n",
    "    \n",
    "    \n",
    "- What makes this model a good candidate for the problem, given what you know about the data?\n",
    "\n",
    "    Ans) Previously, we have used one hot encoding technique. As it suites for the decison trees as the interpretation and visualisation are great on this data. From below graphical illustrations, Accuracy score and the F1 score are relatively higher than the other models used on the training data. But not on the testing sets. This shows that there is an possible overfitting occured in model construction. It is easy to train data on the model.\n",
    "    \n",
    "    \n",
    "3) Support Vector Machine (SVM):\n",
    "\n",
    "- Describe one real-world application in industry where the model can be applied. (You may need to do research for this — give references!)\n",
    "\n",
    "    Ans) SVM's are widely used in Biomedical industry and other sciences. SVM's are used to classify Protiens from compound materials. SVM's are senistive to noise. Posthoc interpretation of SVM models for identifying features used to make predictions in material research of the biological sciences.\n",
    "    Ref 1) https://en.wikipedia.org/wiki/Support_vector_machine#Applications\n",
    "    Ref 2) https://www.ncbi.nlm.nih.gov/pmc/articles/PMC4105825/\n",
    "    Ref 3) http://scikit-learn.org/stable/modules/svm.html#svm-classification\n",
    "    \n",
    "    \n",
    "- What are the strengths of the model; when does it perform well?\n",
    "\n",
    "    Ans) SVM's performs well when there is a clear distinction between the classes. The model has faster speeds while training the data. The regularisation parameter makes the user think about avoiding over-fitting. The kernel trick helps in building the domain knowledge about the problem via engineering the kernel (Though kernel method not just unique to SVM). SVM maximizes margin, so the model is slightly more robust (compared to linear regression). Supports feature sensitive data. Effective in high dimensional spaces. Also effective where number of dimensions is greater than the number of samples. Uses a subset of training points in the decision function (called support vectors), so it is also memory efficient.\n",
    "    \n",
    "    \n",
    "- What are the weaknesses of the model; when does it perform poorly?\n",
    "\n",
    "    Ans) When classification issue is not binary, SVM's behave poorly. Do not always consider all the data equally. Sometimes unclear choice in Kernal. Performs slow while handling data into the model. SVM moves the problem of over-fitting from optimising the parameters to model selection. Kernel models can be quite sensitive to over-fitting the model selection criterion. The hinge loss used in the SVM results in sparsity. If the number of features is much greater than the number of samples, the method is likely to give poor performances. SVMs do not directly provide probability estimates, these are calculated using an expensive five-fold cross-validation\n",
    "    \n",
    "    \n",
    "- What makes this model a good candidate for the problem, given what you know about the data?\n",
    "    \n",
    "    Ans) From below graphical illustrations though SVM's considerably need more time to train data on the models. It gives the best results on the test data set. This proves to be model a good candidate for the problem. As it has generated more efficient results than others. If training time is not a consideration, this is a best bet. \n",
    "\n",
    "\n"
   ]
  },
  {
   "cell_type": "code",
   "execution_count": 10,
   "metadata": {
    "collapsed": true
   },
   "outputs": [],
   "source": [
    "# TODO: Import two metrics from sklearn - fbeta_score and accuracy_score\n",
    "from sklearn.metrics import fbeta_score, accuracy_score\n",
    "from time import time\n",
    "\n",
    "def train_predict(learner, sample_size, X_train, y_train, X_test, y_test): \n",
    "    '''\n",
    "    inputs:\n",
    "       - learner: the learning algorithm to be trained and predicted on\n",
    "       - sample_size: the size of samples (number) to be drawn from training set\n",
    "       - X_train: features training set\n",
    "       - y_train: income training set\n",
    "       - X_test: features testing set\n",
    "       - y_test: income testing set\n",
    "    '''\n",
    "    \n",
    "    results = {}\n",
    "    \n",
    "    # TODO: Fit the learner to the training data using slicing with 'sample_size'\n",
    "    start = time() # Get start time\n",
    "    learner = learner.fit(X_train[:sample_size], y_train[:sample_size])\n",
    "    end = time() # Get end time\n",
    "    \n",
    "    # TODO: Calculate the training time\n",
    "    results['train_time'] = end - start\n",
    "        \n",
    "    # TODO: Get the predictions on the test set,\n",
    "    #       then get predictions on the first 300 training samples\n",
    "    start = time() # Get start time\n",
    "    predictions_test = learner.predict(X_test)\n",
    "    predictions_train = learner.predict(X_train[:300])\n",
    "    end = time() # Get end time\n",
    "    \n",
    "    # TODO: Calculate the total prediction time\n",
    "    results['pred_time'] = end - start\n",
    "            \n",
    "    # TODO: Compute accuracy on the first 300 training samples\n",
    "    results['acc_train'] = accuracy_score(predictions_train,y_train[:300])\n",
    "        \n",
    "    # TODO: Compute accuracy on test set\n",
    "    results['acc_test'] = accuracy_score(predictions_test,y_test)\n",
    "    \n",
    "    # TODO: Compute F-score on the the first 300 training samples\n",
    "    results['f_train'] = fbeta_score(y_train[:300], predictions_train, beta=0.5)\n",
    "        \n",
    "    # TODO: Compute F-score on the test set\n",
    "    results['f_test'] = fbeta_score(y_test, predictions_test, beta=0.5)\n",
    "       \n",
    "    # Success\n",
    "    print \"{} trained on {} samples.\".format(learner.__class__.__name__, sample_size)\n",
    "        \n",
    "    # Return the results\n",
    "    return results"
   ]
  },
  {
   "cell_type": "code",
   "execution_count": 11,
   "metadata": {
    "scrolled": false
   },
   "outputs": [
    {
     "name": "stdout",
     "output_type": "stream",
     "text": [
      "LinearSVC trained on 361 samples.\n",
      "LinearSVC trained on 3617 samples.\n",
      "LinearSVC trained on 36177 samples.\n",
      "GaussianNB trained on 361 samples.\n",
      "GaussianNB trained on 3617 samples.\n",
      "GaussianNB trained on 36177 samples.\n",
      "DecisionTreeClassifier trained on 361 samples.\n",
      "DecisionTreeClassifier trained on 3617 samples.\n",
      "DecisionTreeClassifier trained on 36177 samples.\n"
     ]
    },
    {
     "data": {
      "image/png": "[encoded data removed]",
      "text/plain": [
       "<matplotlib.figure.Figure at 0x7f8a44abe690>"
      ]
     },
     "metadata": {},
     "output_type": "display_data"
    }
   ],
   "source": [
    "# TODO: Import the three supervised learning models from sklearn\n",
    "from sklearn.svm import LinearSVC, SVC\n",
    "from sklearn.naive_bayes import GaussianNB\n",
    "from sklearn.tree import DecisionTreeClassifier\n",
    "\n",
    "# TODO: Initialize the three models\n",
    "clf_A = LinearSVC(random_state=101)\n",
    "clf_B = GaussianNB()\n",
    "clf_C = DecisionTreeClassifier(random_state=0)\n",
    "\n",
    "# TODO: Calculate the number of samples for 1%, 10%, and 100% of the training data\n",
    "samples_1 = int(len(X_train) * 0.01)\n",
    "samples_10 = int(len(X_train) * 0.1)\n",
    "samples_100 = int(len(X_train) *1.0)\n",
    "\n",
    "# Collect results on the learners\n",
    "results = {}\n",
    "for clf in [clf_A, clf_B, clf_C]:\n",
    "    clf_name = clf.__class__.__name__\n",
    "    results[clf_name] = {}\n",
    "    for i, samples in enumerate([samples_1, samples_10, samples_100]):\n",
    "        results[clf_name][i] = \\\n",
    "        train_predict(clf, samples, X_train, y_train, X_test, y_test)\n",
    "\n",
    "# Run metrics visualization for the three supervised learning models chosen\n",
    "vs.evaluate(results, accuracy, fscore)"
   ]
  },
  {
   "cell_type": "markdown",
   "metadata": {},
   "source": [
    "Q3 ) Based on the evaluation you performed earlier, in one to two paragraphs, explain to CharityML which of the three models you believe to be most appropriate for the task of identifying individuals that make more than \\$50,000.\n",
    "Hint: Your answer should include discussion of the metrics, prediction/training time, and the algorithm's suitability for the data.\n",
    "\n",
    "- End of the day, we do prefer a model gives us the best results. Considering the accuracy and f score on the traing sets. The gaussian NB, Decision Trees and SVM's are the in order of good, better and best for a choice of model to be recommended for CharityML. When considered the same scores on training set decision tree performs very well but the same algorithm didn't perform well on test data. This is due to the possibility of occurance of overfitting while training. Decision Trees take considerable lesser time to process the data when compared to SVM's. Interestingly out of these 3 models, Gaussian NB takes very little time for model training. This is due to its simple structure in design. And yet Guassian NB delivered poor results finally.(Accuracy and F Scores). I do not recommend Gaussian NB model for CharityML, though it has less computational cost.\n",
    "\n",
    "\n",
    "- For practical feasibility, based on the accuracy score and F score on testing data sets (>= 0.5). Both the Decision Trees and SVM's can be used. If charityML is very concerned about the time taken for Model Training and Model Predicting, and agreed for smaller tradeoffs in FINAL Results. The final results are nearly equal but model training time for SVM's is nearly 2.5 times greater than model training time for Decision Trees. The model prediction time for SVM's is nearly 16 times greater than model prediction time of Decision Trees. It can choose Decision Trees model. (Though small amount of overfitting occured in Decision Trees, if CharityML is convinient with the \"better\" perfomance and \"good\" results.)\n",
    "\n",
    "\n",
    "- If CharityML is ONLY concerned about final results. If it doesn't bother about the model training time and model prediction time. Based the final accuracy and f score values SVM's have the best results. So CharityML can choose SVM's as their appropiate model for their task. SVM model have given us the best results compared to the other two. "
   ]
  },
  {
   "cell_type": "markdown",
   "metadata": {},
   "source": [
    "Q4 ) In one to two paragraphs, explain to CharityML, in layman's terms, how the final model chosen is supposed to work. Be sure that you are describing the major qualities of the model, such as how the model is trained and how the model makes a prediction. Avoid using advanced mathematical or technical jargon, such as describing equations or discussing the algorithm implementation.\n",
    "\n",
    "- SVM is choosen as the final model. Consider a scenario where we have data that must be classified into two different groups. If the data are linearly separable (divided by a simple straight line) it can be separated completely into groups by a dividing hyperplane. Margin is a diving plane. But real-life datasets do not normally allow themselves to be divided so easily. It is an hurdle while dealing with non-linear data. There are two ways to deal with non linear seperabel datasets and move beyond hard-margin SVM's. If the data is seperable in non linear fashion we consider using KERNEL functions (advanced mechanism) that are able to nonlinear dividing curve between the classes. We make considerations of both kernel functions and the value of soft-margin parameter to perform such classification tasks. To optimise we use regularlisation parameters which are like weights we put on the errors. With smaller parameter values, we punish less the error and results in increasing size of margins. With higher parameter values, this results in narrower margins as this punishes the error severely. \n",
    "\n",
    "\n",
    "- Kernel functions capture the nonlinear dividing curve, it represents the domain knowledge of data and similarities in the data. Using these functions data is projected onto a transformed space where a dividing plane can be found. The tasks for SVM usually lie in binary classification. \n",
    "\n",
    "\n",
    "- SVM's basically work on PASS or FAIL condition for an instance an switch accordingly. Based on those decisions made a boundary is established to segregate the data-points used. Domain knowledge about the data is used to establish a relationship between the data. The objective of the SVM algorithm is to find the line or boundary with the maximum margin and select that over a sub-optimal boundary. By maximising the margin, we make the model as 'safe' as possible from error i.e. reduce PASS cases being mixed with fail and vice versa. Kernel transforms data points into a new dimension so that they can be seperable. Even the complex structure can be easily seperable by either a linear or non-linear boundary. Once the boundary has been established, the model can use it to predict whether a case is PASS or FAIL, depending on what side of the boundary a new data point is on.\n"
   ]
  },
  {
   "cell_type": "code",
   "execution_count": 12,
   "metadata": {},
   "outputs": [
    {
     "name": "stderr",
     "output_type": "stream",
     "text": [
      "/home/ravi/anaconda2/lib/python2.7/site-packages/sklearn/grid_search.py:43: DeprecationWarning: This module was deprecated in version 0.18 in favor of the model_selection module into which all the refactored classes and functions are moved. This module will be removed in 0.20.\n",
      "  DeprecationWarning)\n",
      "/home/ravi/anaconda2/lib/python2.7/site-packages/sklearn/metrics/classification.py:1113: UndefinedMetricWarning: F-score is ill-defined and being set to 0.0 due to no predicted samples.\n",
      "  'precision', 'predicted', average, warn_for)\n"
     ]
    },
    {
     "name": "stdout",
     "output_type": "stream",
     "text": [
      "Unoptimized model\n",
      "------\n",
      "Accuracy score on testing data: 0.8301\n",
      "F-score on testing data: 0.6592\n",
      "\n",
      "Optimized Model\n",
      "------\n",
      "Final accuracy score on the testing data: 0.8474\n",
      "Final F-score on the testing data: 0.6996\n"
     ]
    }
   ],
   "source": [
    "# TODO: Import 'GridSearchCV', 'make_scorer', and any other necessary libraries\n",
    "from sklearn.metrics import make_scorer\n",
    "from sklearn.grid_search import GridSearchCV\n",
    "from sklearn.svm import LinearSVC, SVC\n",
    "\n",
    "# TODO: Initialize the classifier\n",
    "clf = SVC(random_state=0)\n",
    "\n",
    "# TODO: Create the parameters list you wish to tune\n",
    "parameters = {'C':range(1,5),'kernel':['linear','poly','rbf','sigmoid'],'degree':range(1,5)}\n",
    "\n",
    "# TODO: Make an fbeta_score scoring object\n",
    "scorer = make_scorer(fbeta_score, beta=0.5)\n",
    "\n",
    "# TODO: Perform grid search on the classifier using 'scorer' as the scoring method\n",
    "grid_obj = GridSearchCV(clf, parameters, scoring=scorer)\n",
    "\n",
    "# TODO: Fit the grid search object to the training data and find the optimal parameters\n",
    "grid_fit = grid_obj.fit(X_train, y_train)\n",
    "\n",
    "# Get the estimator\n",
    "best_clf = grid_fit.best_estimator_\n",
    "\n",
    "# Make predictions using the unoptimized and model\n",
    "predictions = (clf.fit(X_train, y_train)).predict(X_test)\n",
    "best_predictions = best_clf.predict(X_test)\n",
    "\n",
    "# Report the before-and-afterscores\n",
    "print \"Unoptimized model\\n------\"\n",
    "print \"Accuracy score on testing data: {:.4f}\".format(accuracy_score(y_test, predictions))\n",
    "print \"F-score on testing data: {:.4f}\".format(fbeta_score(y_test, predictions, beta = 0.5))\n",
    "print \"\\nOptimized Model\\n------\"\n",
    "print \"Final accuracy score on the testing data: {:.4f}\".format(accuracy_score(y_test, best_predictions))\n",
    "print \"Final F-score on the testing data: {:.4f}\".format(fbeta_score(y_test, best_predictions, beta = 0.5))"
   ]
  },
  {
   "cell_type": "markdown",
   "metadata": {
    "collapsed": true
   },
   "source": [
    "Q5) What is your optimized model's accuracy and F-score on the testing data? Are these scores better or worse than the unoptimized model? How do the results from your optimized model compare to the naive predictor benchmarks you found earlier in Question 1?\n",
    "Note: Fill in the table below with your results, and then provide discussion in the Answer box.\n",
    "\n",
    "- Ans) \n",
    "\n",
    "Results:\n",
    "\n",
    "Metric --\tBenchmark Predictor ||  Unoptimized Model  ||\tOptimized Model\n",
    "\n",
    "Accuracy Score --\t0.2478 \t  ||       0.8301      ||       0.8474\n",
    "\n",
    "F-score --\t0.2917 \t     ||        0.6592     ||        0.6996\n",
    "\n",
    "- When compared the accuracy, the Optimized model's accuracy is increased by 0.0173, i.e. 1.72% compared to unoptimized model. This shows that data has fit better in the optimized model. Though this improvement is very little. It is mediocre development, as this Gridsearch has taken around 5 hours to complete. Compared Benchmark predictor its not a big increment with respect to the computational time. \n",
    "\n",
    "- When compared the F score, the Optimized model's accuracy is increased by 0.0404, i.e. 4.04% compared to unoptimized model. This shows decent improvement in precision and recall. Compared Benchmark predictor its not a big increment. Given the improvement in F Score which depicts the advantage of optimizing the model. I would recommend CharityML to perform grid searches and tuning, to obtain a best classifier with possible better parameters to choose.  \n",
    "\n",
    "- When comparing between the optmized and unoptimized models, the optimized model performs slightly better.\n",
    "\n",
    "\n"
   ]
  },
  {
   "cell_type": "code",
   "execution_count": 2,
   "metadata": {},
   "outputs": [],
   "source": [
    "# show best parameters\n",
    "#print \"\\nBest Classifier\\n------\"\n",
    "#print best_clf\n"
   ]
  },
  {
   "cell_type": "markdown",
   "metadata": {},
   "source": [
    "Q6) When Exploring the Data, it was shown there are thirteen available features for each individual on record in the census data.\n",
    "Of these thirteen records, which five features do you believe to be most important for prediction, and in what order would you rank them and why?\n",
    "\n",
    "\n",
    "- Ans) Of all the available features, the five features I prefer them are (Highest Order) as follows - Age, Education, Marital Status, Capital-Gain and Occupation.\n",
    "- Age : Older people prefer to donate more for charities. The higher the age is probability of donation (if person has decent income) increases.\n",
    "- Education : Higher the education increases the chances of individuals to have highly paid jobs. If the income levels are high, people may tend to donate.\n",
    "- Marital Status: People who are divorced, widowed or single tend to donate more than others.\n",
    "- Capital-Gains: The people who pay higher capital gains indicates that they are financially strong and they are well to do. The chances of donations are higher in this section of people. \n",
    "- Occupation: People who work private firms usually paid morethan the people who work for government agencies. And in private firms, people who work in IT, Financial, etc.. industries are often paid high. As they high earning group, chances of donations from this group are higher. If we can segregate people according to the industries, we can locate high earning group and request for donations. \n"
   ]
  },
  {
   "cell_type": "code",
   "execution_count": 16,
   "metadata": {},
   "outputs": [
    {
     "data": {
      "image/png": "[encoded data removed]",
      "text/plain": [
       "<matplotlib.figure.Figure at 0x7f4b56eae750>"
      ]
     },
     "metadata": {},
     "output_type": "display_data"
    }
   ],
   "source": [
    "# TODO: Import a supervised learning model that has 'feature_importances_'\n",
    "from sklearn.ensemble import GradientBoostingClassifier\n",
    "# TODO: Train the supervised model on the training set \n",
    "model = GradientBoostingClassifier(random_state=0)\n",
    "model.fit(X_train, y_train)\n",
    "\n",
    "# TODO: Extract the feature importances\n",
    "importances = model.feature_importances_\n",
    "\n",
    "# Plot\n",
    "vs.feature_plot(importances, X_train, y_train)"
   ]
  },
  {
   "cell_type": "markdown",
   "metadata": {},
   "source": [
    "Q7 ) How do these five features compare to the five features you discussed in Question 6? If you were close to the same answer, how does this visualization confirm your thoughts? If you were not close, why do you think these features are more relevant?\n",
    "\n",
    "\n",
    "- Ans) Surprisingly 4 of 5 features I have expected are present in this. Age, Education and Marital status are top 3 as I have expected. I have expected capital gain as 4th higher priority. Here it is 5th highest priority. One exception is Capital loss. I didn't expect this previously. But this is also very important. As people who have severe captial losses indicates that those people are financially very weak. You cannot expect them to donate them though their income levels are higher. We need to consider the people with lower capital losses. \n",
    "\n",
    "- The algorithm depicts that few features have higher weights as their data probably contains better indicators of income level of the people which aids the algorithm in defining a stronger and more accurate decision boundary. The trained model gives good scores and quantative weights of feature importances."
   ]
  },
  {
   "cell_type": "code",
   "execution_count": 17,
   "metadata": {},
   "outputs": [
    {
     "name": "stdout",
     "output_type": "stream",
     "text": [
      "Final Model trained on full data\n",
      "------\n",
      "Accuracy on testing data: 0.8474\n",
      "F-score on testing data: 0.6996\n",
      "\n",
      "Final Model trained on reduced data\n",
      "------\n",
      "Accuracy on testing data: 0.8367\n",
      "F-score on testing data: 0.6742\n"
     ]
    }
   ],
   "source": [
    "# Import functionality for cloning a model\n",
    "from sklearn.base import clone\n",
    "\n",
    "# Reduce the feature space\n",
    "X_train_reduced = X_train[X_train.columns.values[(np.argsort(importances)[::-1])[:5]]]\n",
    "X_test_reduced = X_test[X_test.columns.values[(np.argsort(importances)[::-1])[:5]]]\n",
    "\n",
    "# Train on the \"best\" model found from grid search earlier\n",
    "clf = (clone(best_clf)).fit(X_train_reduced, y_train)\n",
    "\n",
    "# Make new predictions\n",
    "reduced_predictions = clf.predict(X_test_reduced)\n",
    "\n",
    "# Report scores from the final model using both versions of data\n",
    "print \"Final Model trained on full data\\n------\"\n",
    "print \"Accuracy on testing data: {:.4f}\".format(accuracy_score(y_test, best_predictions))\n",
    "print \"F-score on testing data: {:.4f}\".format(fbeta_score(y_test, best_predictions, beta = 0.5))\n",
    "print \"\\nFinal Model trained on reduced data\\n------\"\n",
    "print \"Accuracy on testing data: {:.4f}\".format(accuracy_score(y_test, reduced_predictions))\n",
    "print \"F-score on testing data: {:.4f}\".format(fbeta_score(y_test, reduced_predictions, beta = 0.5))"
   ]
  },
  {
   "cell_type": "markdown",
   "metadata": {},
   "source": [
    "Q8 ) How does the final model's F-score and accuracy score on the reduced data using only five features compare to those same scores when all features are used?\n",
    "If training time was a factor, would you consider using the reduced data as your training set?\n",
    "\n",
    "\n",
    "- Ans) As believed, by reducing the number of features (only Top 5) or data has some bad impact upon our model. The reduced model has dropped in accuracy by around 1.1%, and the F-Score has dropped by around 2.5% compared to the optimized model. I believe this is due to the classifier not being able to accurately capture the complexity of the data and therefore not being able to properly generalize. \n",
    "\n",
    "\n",
    "- Interestingly, those values of reduced data model are better than the unoptimized model (0.8301 and 0.6592 respectively), which is impressive. As the choosen model is SVM, the training time is very \"BIG\" consideration, the reduced data can be used while building a model is to be considered. If tradeoffs are acceptable for low possible losses with relief from very large training time. I would recommend CharityML approach to consider even this reduced feature approach with choosing most prominent features used in the data."
   ]
  },
  {
   "cell_type": "code",
   "execution_count": null,
   "metadata": {
    "collapsed": true
   },
   "outputs": [],
   "source": []
  }
 ],
 "metadata": {
  "kernelspec": {
   "display_name": "Python 2",
   "language": "python",
   "name": "python2"
  },
  "language_info": {
   "codemirror_mode": {
    "name": "ipython",
    "version": 2
   },
   "file_extension": ".py",
   "mimetype": "text/x-python",
   "name": "python",
   "nbconvert_exporter": "python",
   "pygments_lexer": "ipython2",
   "version": "2.7.13"
  }
 },
 "nbformat": 4,
 "nbformat_minor": 2
}
